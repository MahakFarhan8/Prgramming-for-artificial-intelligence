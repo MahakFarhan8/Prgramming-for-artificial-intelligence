{
  "nbformat": 4,
  "nbformat_minor": 0,
  "metadata": {
    "colab": {
      "provenance": []
    },
    "kernelspec": {
      "name": "python3",
      "display_name": "Python 3"
    },
    "language_info": {
      "name": "python"
    }
  },
  "cells": [
    {
      "cell_type": "code",
      "source": [
        "%pip install sentence-transformers"
      ],
      "metadata": {
        "colab": {
          "base_uri": "https://localhost:8080/"
        },
        "id": "bTGyNDsSNf8h",
        "outputId": "45060796-f4e2-4e50-d5c0-e708cd4caeda"
      },
      "execution_count": 55,
      "outputs": [
        {
          "output_type": "stream",
          "name": "stdout",
          "text": [
            "Requirement already satisfied: sentence-transformers in /usr/local/lib/python3.11/dist-packages (3.4.1)\n",
            "Requirement already satisfied: transformers<5.0.0,>=4.41.0 in /usr/local/lib/python3.11/dist-packages (from sentence-transformers) (4.51.3)\n",
            "Requirement already satisfied: tqdm in /usr/local/lib/python3.11/dist-packages (from sentence-transformers) (4.67.1)\n",
            "Requirement already satisfied: torch>=1.11.0 in /usr/local/lib/python3.11/dist-packages (from sentence-transformers) (2.6.0+cu124)\n",
            "Requirement already satisfied: scikit-learn in /usr/local/lib/python3.11/dist-packages (from sentence-transformers) (1.6.1)\n",
            "Requirement already satisfied: scipy in /usr/local/lib/python3.11/dist-packages (from sentence-transformers) (1.15.2)\n",
            "Requirement already satisfied: huggingface-hub>=0.20.0 in /usr/local/lib/python3.11/dist-packages (from sentence-transformers) (0.30.2)\n",
            "Requirement already satisfied: Pillow in /usr/local/lib/python3.11/dist-packages (from sentence-transformers) (11.2.1)\n",
            "Requirement already satisfied: filelock in /usr/local/lib/python3.11/dist-packages (from huggingface-hub>=0.20.0->sentence-transformers) (3.18.0)\n",
            "Requirement already satisfied: fsspec>=2023.5.0 in /usr/local/lib/python3.11/dist-packages (from huggingface-hub>=0.20.0->sentence-transformers) (2025.3.2)\n",
            "Requirement already satisfied: packaging>=20.9 in /usr/local/lib/python3.11/dist-packages (from huggingface-hub>=0.20.0->sentence-transformers) (24.2)\n",
            "Requirement already satisfied: pyyaml>=5.1 in /usr/local/lib/python3.11/dist-packages (from huggingface-hub>=0.20.0->sentence-transformers) (6.0.2)\n",
            "Requirement already satisfied: requests in /usr/local/lib/python3.11/dist-packages (from huggingface-hub>=0.20.0->sentence-transformers) (2.32.3)\n",
            "Requirement already satisfied: typing-extensions>=3.7.4.3 in /usr/local/lib/python3.11/dist-packages (from huggingface-hub>=0.20.0->sentence-transformers) (4.13.2)\n",
            "Requirement already satisfied: networkx in /usr/local/lib/python3.11/dist-packages (from torch>=1.11.0->sentence-transformers) (3.4.2)\n",
            "Requirement already satisfied: jinja2 in /usr/local/lib/python3.11/dist-packages (from torch>=1.11.0->sentence-transformers) (3.1.6)\n",
            "Requirement already satisfied: nvidia-cuda-nvrtc-cu12==12.4.127 in /usr/local/lib/python3.11/dist-packages (from torch>=1.11.0->sentence-transformers) (12.4.127)\n",
            "Requirement already satisfied: nvidia-cuda-runtime-cu12==12.4.127 in /usr/local/lib/python3.11/dist-packages (from torch>=1.11.0->sentence-transformers) (12.4.127)\n",
            "Requirement already satisfied: nvidia-cuda-cupti-cu12==12.4.127 in /usr/local/lib/python3.11/dist-packages (from torch>=1.11.0->sentence-transformers) (12.4.127)\n",
            "Requirement already satisfied: nvidia-cudnn-cu12==9.1.0.70 in /usr/local/lib/python3.11/dist-packages (from torch>=1.11.0->sentence-transformers) (9.1.0.70)\n",
            "Requirement already satisfied: nvidia-cublas-cu12==12.4.5.8 in /usr/local/lib/python3.11/dist-packages (from torch>=1.11.0->sentence-transformers) (12.4.5.8)\n",
            "Requirement already satisfied: nvidia-cufft-cu12==11.2.1.3 in /usr/local/lib/python3.11/dist-packages (from torch>=1.11.0->sentence-transformers) (11.2.1.3)\n",
            "Requirement already satisfied: nvidia-curand-cu12==10.3.5.147 in /usr/local/lib/python3.11/dist-packages (from torch>=1.11.0->sentence-transformers) (10.3.5.147)\n",
            "Requirement already satisfied: nvidia-cusolver-cu12==11.6.1.9 in /usr/local/lib/python3.11/dist-packages (from torch>=1.11.0->sentence-transformers) (11.6.1.9)\n",
            "Requirement already satisfied: nvidia-cusparse-cu12==12.3.1.170 in /usr/local/lib/python3.11/dist-packages (from torch>=1.11.0->sentence-transformers) (12.3.1.170)\n",
            "Requirement already satisfied: nvidia-cusparselt-cu12==0.6.2 in /usr/local/lib/python3.11/dist-packages (from torch>=1.11.0->sentence-transformers) (0.6.2)\n",
            "Requirement already satisfied: nvidia-nccl-cu12==2.21.5 in /usr/local/lib/python3.11/dist-packages (from torch>=1.11.0->sentence-transformers) (2.21.5)\n",
            "Requirement already satisfied: nvidia-nvtx-cu12==12.4.127 in /usr/local/lib/python3.11/dist-packages (from torch>=1.11.0->sentence-transformers) (12.4.127)\n",
            "Requirement already satisfied: nvidia-nvjitlink-cu12==12.4.127 in /usr/local/lib/python3.11/dist-packages (from torch>=1.11.0->sentence-transformers) (12.4.127)\n",
            "Requirement already satisfied: triton==3.2.0 in /usr/local/lib/python3.11/dist-packages (from torch>=1.11.0->sentence-transformers) (3.2.0)\n",
            "Requirement already satisfied: sympy==1.13.1 in /usr/local/lib/python3.11/dist-packages (from torch>=1.11.0->sentence-transformers) (1.13.1)\n",
            "Requirement already satisfied: mpmath<1.4,>=1.1.0 in /usr/local/lib/python3.11/dist-packages (from sympy==1.13.1->torch>=1.11.0->sentence-transformers) (1.3.0)\n",
            "Requirement already satisfied: numpy>=1.17 in /usr/local/lib/python3.11/dist-packages (from transformers<5.0.0,>=4.41.0->sentence-transformers) (2.0.2)\n",
            "Requirement already satisfied: regex!=2019.12.17 in /usr/local/lib/python3.11/dist-packages (from transformers<5.0.0,>=4.41.0->sentence-transformers) (2024.11.6)\n",
            "Requirement already satisfied: tokenizers<0.22,>=0.21 in /usr/local/lib/python3.11/dist-packages (from transformers<5.0.0,>=4.41.0->sentence-transformers) (0.21.1)\n",
            "Requirement already satisfied: safetensors>=0.4.3 in /usr/local/lib/python3.11/dist-packages (from transformers<5.0.0,>=4.41.0->sentence-transformers) (0.5.3)\n",
            "Requirement already satisfied: joblib>=1.2.0 in /usr/local/lib/python3.11/dist-packages (from scikit-learn->sentence-transformers) (1.4.2)\n",
            "Requirement already satisfied: threadpoolctl>=3.1.0 in /usr/local/lib/python3.11/dist-packages (from scikit-learn->sentence-transformers) (3.6.0)\n",
            "Requirement already satisfied: MarkupSafe>=2.0 in /usr/local/lib/python3.11/dist-packages (from jinja2->torch>=1.11.0->sentence-transformers) (3.0.2)\n",
            "Requirement already satisfied: charset-normalizer<4,>=2 in /usr/local/lib/python3.11/dist-packages (from requests->huggingface-hub>=0.20.0->sentence-transformers) (3.4.1)\n",
            "Requirement already satisfied: idna<4,>=2.5 in /usr/local/lib/python3.11/dist-packages (from requests->huggingface-hub>=0.20.0->sentence-transformers) (3.10)\n",
            "Requirement already satisfied: urllib3<3,>=1.21.1 in /usr/local/lib/python3.11/dist-packages (from requests->huggingface-hub>=0.20.0->sentence-transformers) (2.4.0)\n",
            "Requirement already satisfied: certifi>=2017.4.17 in /usr/local/lib/python3.11/dist-packages (from requests->huggingface-hub>=0.20.0->sentence-transformers) (2025.1.31)\n"
          ]
        }
      ]
    },
    {
      "cell_type": "code",
      "source": [
        "from sentence_transformers import SentenceTransformer,util"
      ],
      "metadata": {
        "id": "zPscEWozNneP"
      },
      "execution_count": 56,
      "outputs": []
    },
    {
      "cell_type": "code",
      "source": [
        "model = SentenceTransformer(\"sentence-transformers/all-MiniLM-L6-v2\")"
      ],
      "metadata": {
        "id": "7sPplYoIOFd_"
      },
      "execution_count": 57,
      "outputs": []
    },
    {
      "cell_type": "code",
      "source": [
        "question_pool = [\n",
        "    \"Hi\",\n",
        "    \"What's on the menu?\",\n",
        "    \"Do you have burgers?\",\n",
        "    \"Tell me about pizzas\",\n",
        "    \"What types of pasta do you serve?\",\n",
        "    \"Do you offer biryani?\",\n",
        "    \"Do you have BBQ items?\",\n",
        "    \"Can I get a dessert?\",\n",
        "    \"What drinks do you serve?\",\n",
        "    \"Can I book a table?\",\n",
        "    \"Thanks!\",\n",
        "    \"Bye\"\n",
        "]\n",
        "\n",
        "# Define the corresponding fun answer pool\n",
        "answer_pool = [\n",
        "    \"Hey there! Welcome to Foodie's Paradise! What would you like today?\",\n",
        "    \"Our menu is packed with love! 🍕🍔🍝 We have pizzas, burgers, pasta, biryani, BBQ, desserts, and much more!\",\n",
        "    \"Our burgers are juicy and delicious! 🍔 Options: Classic Beef, Chicken Supreme, Veggie Delight.\",\n",
        "    \"Hot and cheesy pizzas await you! 🍕 Options: Margherita, Pepperoni, BBQ Chicken, Veggie Special.\",\n",
        "    \"We serve creamy Alfredo, spicy Arrabiata, and classic Bolognese pasta! 🍝\",\n",
        "    \"Aromatic biryani for you! Options: Chicken Biryani, Mutton Biryani, and Veg Biryani. 🍛\",\n",
        "    \"Smoky and tender BBQ dishes! Options: BBQ Wings, Ribs, and BBQ Platters. 🔥\",\n",
        "    \"Dessert time! 🍰 Options: Chocolate Lava Cake, Cheesecake, Ice Cream Sundae.\",\n",
        "    \"Refreshing drinks available! 🥤 Options: Lemonade, Mojito, Cold Coffee, Fresh Juices.\",\n",
        "    \"Sure! 📅 To book a table, please call us at +123-456-7890 or visit our website to reserve online!\",\n",
        "    \"You're welcome! 😄 Enjoy your meal!\",\n",
        "    \"Goodbye foodie! 👋 Come back hungry!\"\n",
        "]\n",
        "\n"
      ],
      "metadata": {
        "id": "cQeMSyIQRAwU"
      },
      "execution_count": 58,
      "outputs": []
    },
    {
      "cell_type": "code",
      "source": [
        "question_embeddings = model.encode(question_pool, convert_to_tensor=True)"
      ],
      "metadata": {
        "id": "hONGBGsGONGk"
      },
      "execution_count": 59,
      "outputs": []
    },
    {
      "cell_type": "code",
      "source": [
        "import numpy as np"
      ],
      "metadata": {
        "id": "Z8oSPwRGOasx"
      },
      "execution_count": 60,
      "outputs": []
    },
    {
      "cell_type": "code",
      "source": [
        "question_embeddings = np.array(question_embeddings).astype('float32')"
      ],
      "metadata": {
        "id": "JaUoqoRjOdNW"
      },
      "execution_count": 61,
      "outputs": []
    },
    {
      "cell_type": "code",
      "source": [
        "np.save('restaurant_embeddings.npy',question_embeddings)"
      ],
      "metadata": {
        "id": "-C8rfW1kPFez"
      },
      "execution_count": 62,
      "outputs": []
    },
    {
      "cell_type": "code",
      "source": [
        "question_embeddings = np.load('restaurant_embeddings.npy')"
      ],
      "metadata": {
        "id": "BYW58mF_PXWt"
      },
      "execution_count": 63,
      "outputs": []
    },
    {
      "cell_type": "code",
      "source": [
        "%pip install faiss-cpu"
      ],
      "metadata": {
        "colab": {
          "base_uri": "https://localhost:8080/"
        },
        "id": "pSjlz3INOfmV",
        "outputId": "caf47d06-f782-4db0-84f9-d3c072f92591"
      },
      "execution_count": 64,
      "outputs": [
        {
          "output_type": "stream",
          "name": "stdout",
          "text": [
            "Requirement already satisfied: faiss-cpu in /usr/local/lib/python3.11/dist-packages (1.11.0)\n",
            "Requirement already satisfied: numpy<3.0,>=1.25.0 in /usr/local/lib/python3.11/dist-packages (from faiss-cpu) (2.0.2)\n",
            "Requirement already satisfied: packaging in /usr/local/lib/python3.11/dist-packages (from faiss-cpu) (24.2)\n"
          ]
        }
      ]
    },
    {
      "cell_type": "code",
      "source": [
        "import faiss"
      ],
      "metadata": {
        "id": "RyYG9seKOhwk"
      },
      "execution_count": 65,
      "outputs": []
    },
    {
      "cell_type": "code",
      "source": [
        "dimension = question_embeddings.shape[1]  # usually 384\n",
        "index = faiss.IndexFlatL2(dimension)\n",
        "index.add(question_embeddings)"
      ],
      "metadata": {
        "id": "B2NJKJz6Okwn"
      },
      "execution_count": 66,
      "outputs": []
    },
    {
      "cell_type": "code",
      "source": [
        "SIMILARITY_THRESHOLD = 0.4"
      ],
      "metadata": {
        "id": "kMyRdnKuOnuQ"
      },
      "execution_count": 67,
      "outputs": []
    },
    {
      "cell_type": "code",
      "source": [
        "def chatbot_reply(user_input):\n",
        "    user_embedding = model.encode(user_input, convert_to_tensor=True)\n",
        "    cosine_scores = util.pytorch_cos_sim(user_embedding, question_embeddings)\n",
        "\n",
        "    best_score = cosine_scores.max().item()\n",
        "    best_index = cosine_scores.argmax().item()\n",
        "\n",
        "    if best_score >= SIMILARITY_THRESHOLD:\n",
        "        return answer_pool[best_index]\n",
        "    else:\n",
        "        return \"I'm not sure about that. Try asking about food, drinks, or bookings!\"\n",
        "\n",
        "# Chatbot interaction loop\n",
        "while True:\n",
        "    user_input = input(\"You: \")\n",
        "    if user_input.lower() in ['exit', 'quit', 'bye']:\n",
        "        print(\"Bot: Goodbye! 👋\")\n",
        "        break\n",
        "    response = chatbot_reply(user_input)\n",
        "    print(\"Bot:\", response)"
      ],
      "metadata": {
        "colab": {
          "base_uri": "https://localhost:8080/"
        },
        "id": "COQg4xEqOqUE",
        "outputId": "28c47510-35ec-4dc2-804e-0146bf64f3c1"
      },
      "execution_count": 68,
      "outputs": [
        {
          "output_type": "stream",
          "name": "stdout",
          "text": [
            "You: hello\n",
            "Bot: Hey there! Welcome to Foodie's Paradise! What would you like today?\n",
            "You: tell me about burgers\n",
            "Bot: Our burgers are juicy and delicious! 🍔 Options: Classic Beef, Chicken Supreme, Veggie Delight.\n",
            "You: do you have drinks\n",
            "Bot: Refreshing drinks available! 🥤 Options: Lemonade, Mojito, Cold Coffee, Fresh Juices.\n",
            "You: can i reserve a seat\n",
            "Bot: Sure! 📅 To book a table, please call us at +123-456-7890 or visit our website to reserve online!\n",
            "You: thank you\n",
            "Bot: You're welcome! 😄 Enjoy your meal!\n",
            "You: bye\n",
            "Bot: Goodbye! 👋\n"
          ]
        }
      ]
    },
    {
      "cell_type": "code",
      "source": [],
      "metadata": {
        "id": "VjgXi8EqOtof"
      },
      "execution_count": 54,
      "outputs": []
    }
  ]
}